{
 "cells": [
  {
   "cell_type": "markdown",
   "metadata": {},
   "source": [
    "# Examples using `.ipynb` File:\n",
    "## Markdown, Equations, Text Blocks and Code:\n",
    "\n",
    "*There are several examples below that demonstrate different features of* `jupyterbook`.\n",
    "\n",
    "----------------------------------------------\n",
    "## Markdown\n",
    "### Example 1: Introduction to Programming in Python\n",
    "\n",
    "<font color=red>**When you want to just have text, insert a Markdown cell. see the text below for different font examples.**</font>\n",
    "\n",
    "In Part I, we will cover the fundamentals of python. Note that this is workshop is not exhaustive, but it will provide you with a useful introduction. There aren many, **many**, python tutorials, courses, etc. online, so if you are interested in learning more, a quick google search is all you need do.\n",
    "\n",
    "Most of the output on this webpage is *hidden* in order to give you the opportunity to think the code through before you click to reveal the output. And remember, <font color=green>***press Shift-Enter to run the code***</font>.\n",
    "\n",
    "Follow along in your own blank jupyter notebook or click on the \"Live Code/Launch Thebe\" button in the upper right corner. **It takes a few minutes for the \"Live Code\" session to launch**.\n",
    "\n",
    "Let's start with a simple hello world program (just as we did in the video). \n",
    "\n",
    "Note that `#` followed by text is a **comment**. The `#` sympbol tells python not to interpret this line as code."
   ]
  },
  {
   "cell_type": "markdown",
   "metadata": {},
   "source": [
    "----------------------------------------------\n",
    "## Equations and Text Blocks\n",
    "### Example 2: The Central Limit Theorem\n",
    "\n",
    "<font color=red>**To insert equations, you can use the `mathmode` by starting and ending your equation with `$$` and using LaTeX syntax to write your equation:**</font>"
   ]
  },
  {
   "cell_type": "markdown",
   "metadata": {},
   "source": [
    "Recall that the $z$-statistic is defined as,\n",
    "\n",
    "$$\n",
    "z = \\frac{x - \\mu}{\\sigma}\n",
    "$$\n",
    "\n",
    "where $\\mu$ is the population mean and $\\sigma$ is the population standard deviation and $x$ is normally distributed.\n",
    "\n",
    "As we noted above, we are usually not interested in a specific value, $x$, but rather a sample mean, $\\overline{x}$. So, can we substitute $x$ for $\\overline{x}$ and use the $z$-table to test our null hypothesis? Almost...There are a few things we need to address first:\n",
    "- How do we know if $\\overline{x}$ is normally distributed?\n",
    "- Does the underlying population of $\\overline{x}$ have the same mean and standard deviation as $x$?"
   ]
  },
  {
   "cell_type": "markdown",
   "metadata": {},
   "source": [
    "<font color=red>**If you want to insert a specialized text block use the `admonition` feature:**</font>"
   ]
  },
  {
   "cell_type": "markdown",
   "metadata": {},
   "source": [
    "Fortunately, we have a theorem for this: **The Central Limit Theorem**\n",
    "\n",
    "```{admonition} The Central Limit Theorem\n",
    ":class: note\n",
    "Given a sample of size $N$ drawn from a distribution with known population mean $\\mu$ and known population standard deviation, $\\sigma$, if the size ($N$) of the sample is sufficiently large, then the distribution of the sample means will approximate a normal distribution regardless of the underlying distribution of the population. The mean of the sample means will equal the population mean, $\\mu$, and the standard deviation of the distribution of the sample means will equal the standard error, $\\sigma/\\sqrt{N}$.\n",
    "```\n",
    "\n",
    "In other words, the Central Limit Theorem (CLT) says that if you have a sample that is large enough, you can use the normally distributed $z$-statistic to estimate probabilities of getting that sample mean - no matter the distribution of the underlying data."
   ]
  },
  {
   "cell_type": "markdown",
   "metadata": {},
   "source": [
    "----------------------------------------------\n",
    "## Code and Hidden Input/Output\n",
    "### Example 3: Introduction to Programming in Python (cont'd)"
   ]
  },
  {
   "cell_type": "markdown",
   "metadata": {},
   "source": [
    "<font color=red>**When you want to embed code, just insert a code cell.**</font>"
   ]
  },
  {
   "cell_type": "code",
   "execution_count": 1,
   "metadata": {},
   "outputs": [
    {
     "name": "stdout",
     "output_type": "stream",
     "text": [
      "Hello World!\n"
     ]
    }
   ],
   "source": [
    "# this is a comment\n",
    "print(\"Hello World!\")"
   ]
  },
  {
   "cell_type": "markdown",
   "metadata": {},
   "source": [
    "<font color=red>**You can use tags to hide the input, output or both.**</font>"
   ]
  },
  {
   "cell_type": "code",
   "execution_count": 2,
   "metadata": {
    "tags": [
     "hide-output"
    ]
   },
   "outputs": [
    {
     "name": "stdout",
     "output_type": "stream",
     "text": [
      "Hello World!\n"
     ]
    }
   ],
   "source": [
    "# this is a comment\n",
    "print(\"Hello World!\")"
   ]
  },
  {
   "cell_type": "markdown",
   "metadata": {},
   "source": [
    "<font color=red>**Use standard python syntax to load packages. Be sure that the packages you want to load are included in the `requirements.txt` file.**</font>"
   ]
  },
  {
   "cell_type": "code",
   "execution_count": 3,
   "metadata": {},
   "outputs": [],
   "source": [
    "# Load packages\n",
    "import numpy as np\n",
    "from matplotlib import pyplot as plt"
   ]
  },
  {
   "cell_type": "markdown",
   "metadata": {},
   "source": [
    "<font color=red>**Finally, here is an example of generating a plot.**</font>"
   ]
  },
  {
   "cell_type": "markdown",
   "metadata": {},
   "source": [
    "We are going to draw samples of data from three different distributions, a normal distribution, a uniform distribution and a lognormal distribution. Each sample is of size $N_0$."
   ]
  },
  {
   "cell_type": "code",
   "execution_count": 4,
   "metadata": {},
   "outputs": [],
   "source": [
    "N0 = 10000000\n",
    "xinc = np.arange(-10,10,.01) # bin size\n",
    "\n",
    "# We are drawing large samples from a normal, a uniform and a log-normal distribution.\n",
    "\n",
    "xn = np.random.normal(0,1,size = (N0,))\n",
    "xu = np.random.uniform(-5.,5.,size=(N0,))\n",
    "xl = np.random.lognormal(0.,2.,size=(N0,))"
   ]
  },
  {
   "cell_type": "markdown",
   "metadata": {},
   "source": [
    "Let's compute the histograms and plot the PDFs of each of these data sets to see what they look like."
   ]
  },
  {
   "cell_type": "code",
   "execution_count": 5,
   "metadata": {},
   "outputs": [],
   "source": [
    "# Calculate histograms\n",
    "\n",
    "hn = np.histogram(xn,xinc)\n",
    "hu = np.histogram(xu,xinc)\n",
    "hl = np.histogram(xl,xinc)"
   ]
  },
  {
   "cell_type": "code",
   "execution_count": 6,
   "metadata": {},
   "outputs": [
    {
     "data": {
      "image/png": "[encoded data removed]",
      "text/plain": [
       "<Figure size 720x432 with 1 Axes>"
      ]
     },
     "metadata": {
      "filenames": {
       "image/png": "/Users/Karen/Dropbox/DPI-demo-jupyterbook/_build/jupyter_execute/chapters/introduction/demo2_17_0.png"
      },
      "needs_background": "light"
     },
     "output_type": "display_data"
    }
   ],
   "source": [
    "# Plot the PDFs (in terms of frequency)\n",
    "\n",
    "plt.figure(figsize=(10,6))\n",
    "plt.ylabel('Frequency')\n",
    "plt.xlim(-8,8)\n",
    "\n",
    "# Plot normal distribution\n",
    "plt.plot(hn[1][:-1],hn[0]/N0,'-',color='black', label = 'normal')\n",
    "\n",
    "# Plot uniform distribution\n",
    "plt.plot(hu[1][:-1],hu[0]/N0,'-',color='blue',label = 'uniform')\n",
    "\n",
    "# Plot log-normal distribution\n",
    "plt.plot(hl[1][:-1],hl[0]/N0,'-',color='orange', label='lognormal')\n",
    "\n",
    "# Add a legened\n",
    "plt.legend(fontsize = 15)\n",
    "plt.tight_layout()"
   ]
  },
  {
   "cell_type": "code",
   "execution_count": null,
   "metadata": {},
   "outputs": [],
   "source": []
  }
 ],
 "metadata": {
  "celltoolbar": "Tags",
  "kernelspec": {
   "display_name": "Python 3",
   "language": "python",
   "name": "python3"
  },
  "language_info": {
   "codemirror_mode": {
    "name": "ipython",
    "version": 3
   },
   "file_extension": ".py",
   "mimetype": "text/x-python",
   "name": "python",
   "nbconvert_exporter": "python",
   "pygments_lexer": "ipython3",
   "version": "3.8.3"
  }
 },
 "nbformat": 4,
 "nbformat_minor": 1
}