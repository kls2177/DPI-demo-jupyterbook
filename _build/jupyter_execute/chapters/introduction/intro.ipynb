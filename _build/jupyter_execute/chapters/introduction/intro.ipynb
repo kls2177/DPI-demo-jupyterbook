{
 "cells": [
  {
   "cell_type": "markdown",
   "metadata": {},
   "source": [
    "# Introduction\n",
    "\n",
    "The goal of this book is to provide a demo of how to convert your existing jupyter notebooks into a jupyterbook website.\n",
    "\n",
    "**Note:** This book was created for the [Digital Pedagogy Institute 2021](https://uwaterloo.ca/digital-pedagogy-institute/about).\n",
    "\n",
    "Let's get started with a brief demo of how to embed video into your jupyterbook."
   ]
  },
  {
   "cell_type": "code",
   "execution_count": 1,
   "metadata": {
    "tags": [
     "remove-input"
    ]
   },
   "outputs": [
    {
     "data": {
      "text/html": [
       "\n",
       "<iframe\n",
       "    width=\"560\"\n",
       "    height=\"315\"\n",
       "    src=\"https://play.library.utoronto.ca/embed/bba2404069001423dc2341d4d4f440af\"\n",
       "    frameborder=\"0\"\n",
       "    allowfullscreen\n",
       "></iframe>\n"
      ],
      "text/plain": [
       "<IPython.lib.display.IFrame at 0x7fcf1eb3f4f0>"
      ]
     },
     "execution_count": 1,
     "metadata": {},
     "output_type": "execute_result"
    }
   ],
   "source": [
    "from IPython.display import IFrame\n",
    " \n",
    "IFrame(\"https://play.library.utoronto.ca/embed/bba2404069001423dc2341d4d4f440af\", width=\"560\",height=\"315\")"
   ]
  },
  {
   "cell_type": "code",
   "execution_count": null,
   "metadata": {},
   "outputs": [],
   "source": []
  },
  {
   "cell_type": "markdown",
   "metadata": {},
   "source": [
    "\n",
    "```{toctree}\n",
    ":hidden:\n",
    ":titlesonly:\n",
    "\n",
    "\n",
    "demo1\n",
    "demo2\n",
    "```\n"
   ]
  }
 ],
 "metadata": {
  "celltoolbar": "Tags",
  "kernelspec": {
   "display_name": "Python 3",
   "language": "python",
   "name": "python3"
  },
  "language_info": {
   "codemirror_mode": {
    "name": "ipython",
    "version": 3
   },
   "file_extension": ".py",
   "mimetype": "text/x-python",
   "name": "python",
   "nbconvert_exporter": "python",
   "pygments_lexer": "ipython3",
   "version": "3.8.3"
  }
 },
 "nbformat": 4,
 "nbformat_minor": 4
}