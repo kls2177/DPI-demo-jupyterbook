{
 "cells": [
  {
   "cell_type": "markdown",
   "metadata": {},
   "source": [
    "# Part I: Introduction to Programming in Python\n",
    "\n",
    "In Part I, we will cover the fundamentals of python. Note that this is workshop is not exhaustive, but it will provide you with a useful introduction. There aren many, **many**, python tutorials, courses, etc. online, so if you are interested in learning more, a quick google search is all you need do.\n",
    "\n",
    "Most of the output on this webpage is *hidden* in order to give you the opportunity to think the code through before you click to reveal the output. And remember, <font color=green>***press Shift-Enter to run the code***</font>.\n",
    "\n",
    "Follow along in your own blank jupyter notebook or click on the \"Live Code/Launch Thebe\" button in the upper right corner. **It takes a few minutes for the \"Live Code\" session to launch**.\n",
    "\n",
    "Let's start with a simple hello world program (just as we did in the video). \n",
    "\n",
    "Note that `#` followed by text is a **comment**. The `#` sympbol tells python not to interpret this line as code."
   ]
  },
  {
   "cell_type": "code",
   "execution_count": 1,
   "metadata": {
    "tags": [
     "hide-output"
    ]
   },
   "outputs": [
    {
     "name": "stdout",
     "output_type": "stream",
     "text": [
      "Hello World!\n"
     ]
    }
   ],
   "source": [
    "# this is a comment\n",
    "print(\"Hello World!\")"
   ]
  },
  {
   "cell_type": "markdown",
   "metadata": {},
   "source": [
    "Note that the syntax matters. What happens if you instead try the following:\n",
    "\n",
    "- print(Hello World!)\n",
    "- print(“Hello World)\n",
    "- print “Hello World”\n",
    "\n",
    "`print()` is one of the built-in functions that are always available when you use python. Functions are followed by parenthesis. Here are all the [built-in functions](https://docs.python.org/3/library/functions.html).\n",
    "\n",
    "To learn more about a particular function, type `help()`"
   ]
  },
  {
   "cell_type": "code",
   "execution_count": 2,
   "metadata": {},
   "outputs": [
    {
     "name": "stdout",
     "output_type": "stream",
     "text": [
      "Help on built-in function print in module builtins:\n",
      "\n",
      "print(...)\n",
      "    print(value, ..., sep=' ', end='\\n', file=sys.stdout, flush=False)\n",
      "    \n",
      "    Prints the values to a stream, or to sys.stdout by default.\n",
      "    Optional keyword arguments:\n",
      "    file:  a file-like object (stream); defaults to the current sys.stdout.\n",
      "    sep:   string inserted between values, default a space.\n",
      "    end:   string appended after the last value, default a newline.\n",
      "    flush: whether to forcibly flush the stream.\n",
      "\n"
     ]
    }
   ],
   "source": [
    "# information about print()\n",
    "help(print)"
   ]
  },
  {
   "cell_type": "markdown",
   "metadata": {},
   "source": [
    "## 1. Operations: Python as a *calculator*\n",
    "The above was a demonstration of a simple output. Now, let's take a look at how to use Python do **operations** just like a calculator.\n",
    "* `+` Addition\n",
    "* `-` Subtraction\n",
    "* `*` Multiplication\n",
    "* `/` Division\n",
    "* `%` Modulus\n",
    "* `**` Exponent"
   ]
  },
  {
   "cell_type": "code",
   "execution_count": 3,
   "metadata": {
    "tags": [
     "hide-output"
    ]
   },
   "outputs": [
    {
     "data": {
      "text/plain": [
       "3"
      ]
     },
     "execution_count": 3,
     "metadata": {},
     "output_type": "execute_result"
    }
   ],
   "source": [
    "# Addition\n",
    "1+2"
   ]
  },
  {
   "cell_type": "markdown",
   "metadata": {},
   "source": [
    "Note that:"
   ]
  },
  {
   "cell_type": "code",
   "execution_count": 4,
   "metadata": {},
   "outputs": [
    {
     "data": {
      "text/plain": [
       "3"
      ]
     },
     "execution_count": 4,
     "metadata": {},
     "output_type": "execute_result"
    }
   ],
   "source": [
    "1+2"
   ]
  },
  {
   "cell_type": "markdown",
   "metadata": {},
   "source": [
    "is the same as "
   ]
  },
  {
   "cell_type": "code",
   "execution_count": 5,
   "metadata": {},
   "outputs": [
    {
     "data": {
      "text/plain": [
       "3"
      ]
     },
     "execution_count": 5,
     "metadata": {},
     "output_type": "execute_result"
    }
   ],
   "source": [
    "1 + 2"
   ]
  },
  {
   "cell_type": "markdown",
   "metadata": {},
   "source": [
    "Python ignores the white spaces."
   ]
  },
  {
   "cell_type": "code",
   "execution_count": 6,
   "metadata": {
    "tags": [
     "hide-output"
    ]
   },
   "outputs": [
    {
     "data": {
      "text/plain": [
       "12.48"
      ]
     },
     "execution_count": 6,
     "metadata": {},
     "output_type": "execute_result"
    }
   ],
   "source": [
    "# Multiplication\n",
    "1.6*7.8"
   ]
  },
  {
   "cell_type": "markdown",
   "metadata": {},
   "source": [
    "### 1.1 Order of Operations\n",
    "\n",
    "Just like in high-school arithmetic, the order of operations matters. In python, the hierarchical order of operations (aka [precedence](https://introcs.cs.princeton.edu/python/appendix_precedence/#:~:text=Python%20has%20well%2Ddefined%20rules,precedence%20than%20addition%20and%20subtraction.)) is as follows:\n",
    "\n",
    "* `()` Parentheses - Highest Precedence\n",
    "* `**` Exponentiation\n",
    "* `*` Multiplication\n",
    "* `/` Division\n",
    "* `%` Modulo\n",
    "* `+` Addition\n",
    "* `-` Subtraction"
   ]
  },
  {
   "cell_type": "markdown",
   "metadata": {},
   "source": [
    "Order of operations matter! Try executing `5 + 4 * 16`. Before you check the output - which operation will be performed first, based on the list above?"
   ]
  },
  {
   "cell_type": "code",
   "execution_count": 7,
   "metadata": {
    "tags": [
     "hide-output"
    ]
   },
   "outputs": [
    {
     "data": {
      "text/plain": [
       "69"
      ]
     },
     "execution_count": 7,
     "metadata": {},
     "output_type": "execute_result"
    }
   ],
   "source": [
    "# Order of Operations\n",
    "5 + 4 * 16"
   ]
  },
  {
   "cell_type": "markdown",
   "metadata": {},
   "source": [
    "Now, change the above to `(5 + 4)*16`. Which operation will be performed first? Check the output to confirm.\n",
    "\n",
    "Parentheses can be used to establish which operation should be performed first."
   ]
  },
  {
   "cell_type": "code",
   "execution_count": null,
   "metadata": {},
   "outputs": [],
   "source": []
  },
  {
   "cell_type": "markdown",
   "metadata": {},
   "source": [
    "## 2. Basic Data Types\n",
    "\n",
    "The most common data types in python are:\n",
    "\n",
    "* Integer (1,91,-1923)\n",
    "* Float (1.1, -109.1, 1.00)\n",
    "* Complex (4 + 5j)\n",
    "\n",
    "\n",
    "* String (\"name\", \"hello\", \"123\")\n",
    "\n",
    "\n",
    "* Boolean (True, False)\n",
    "\n",
    "Let's take a look these different types. We will start with `type(10)`. What type do you think this is? (Note that `type()` is one of the built-in python functions.)"
   ]
  },
  {
   "cell_type": "code",
   "execution_count": 8,
   "metadata": {
    "tags": [
     "hide-output"
    ]
   },
   "outputs": [
    {
     "data": {
      "text/plain": [
       "int"
      ]
     },
     "execution_count": 8,
     "metadata": {},
     "output_type": "execute_result"
    }
   ],
   "source": [
    "# Display data type\n",
    "type(10)"
   ]
  },
  {
   "cell_type": "markdown",
   "metadata": {},
   "source": [
    "What happens if you change the above to `type(10.0)`? What type do you think this is?"
   ]
  },
  {
   "cell_type": "markdown",
   "metadata": {},
   "source": [
    "### 2.1 Type Conversions\n",
    "What if I want to add 1 and \"2\", where 1 is an integer and \"2\" is a string? Try typing this on your own. What do you get?"
   ]
  },
  {
   "cell_type": "markdown",
   "metadata": {},
   "source": [
    "```{figure} typeerror.png\n",
    "---\n",
    "height: 150px\n",
    "name: typeerror\n",
    "---\n",
    "```"
   ]
  },
  {
   "cell_type": "markdown",
   "metadata": {},
   "source": [
    "It will result in a `TypeError`. Some types are incompatible with each other. In this case, you need to do *type conversion*.\n",
    "\n",
    "This may seem silly - why would you want to add integers and strings anyway? But, this is actually quite a common issue that comes up. For example, suppose I entered some numeric measurements in a .csv file but I entered them as text rather than numbers. Then I read this .csv file in python and try to perform some arthimetic operations and I find I get a `TypeError`. I can avoid editing my .csv file by doing a *type conversion*."
   ]
  },
  {
   "cell_type": "code",
   "execution_count": 9,
   "metadata": {
    "tags": [
     "hide-output"
    ]
   },
   "outputs": [
    {
     "data": {
      "text/plain": [
       "3"
      ]
     },
     "execution_count": 9,
     "metadata": {},
     "output_type": "execute_result"
    }
   ],
   "source": [
    "# Adding an integer and a string\n",
    "1 + int(\"2\")"
   ]
  },
  {
   "cell_type": "markdown",
   "metadata": {},
   "source": [
    "`int()` is another built-in python function. Other type conversion functions include:\n",
    "\n",
    "* str()\n",
    "* float()\n",
    "* complex()\n",
    "* bool()\n",
    "\n",
    "\n",
    "## 3. Variables\n",
    "\n",
    "We have seen how we can use python to perform simple operations, but scientific computing often involves complex computations and big data. We do not want to be constantly typing in numbers - we need a way to store information.\n",
    "\n",
    "Introducing **variables**.  "
   ]
  },
  {
   "cell_type": "code",
   "execution_count": 10,
   "metadata": {},
   "outputs": [
    {
     "name": "stdout",
     "output_type": "stream",
     "text": [
      "21\n"
     ]
    }
   ],
   "source": [
    "# Variables\n",
    "a = 1         # assign 1 to variable a\n",
    "b = \"hello\"   # assign \"hello\" to variable b\n",
    "c = a + 20    # assign a + 20 to variable c\n",
    "print(c)"
   ]
  },
  {
   "cell_type": "markdown",
   "metadata": {},
   "source": [
    "Variables must start with a character and can use a combination of characters and numbers (except for the following [reserved words](https://docs.python.org/2.5/ref/keywords.html))."
   ]
  },
  {
   "cell_type": "markdown",
   "metadata": {},
   "source": [
    "## 4. Conditionals: Decision-making in python\n",
    "Learning to write conditionals is the first step in programming. Conditionals allow a program to make a decision (e.g. control output) based on specific information (i.e. the input). \n",
    "\n",
    "Conditionals in python follow the follwing format:\n",
    "```\n",
    "if expression1:\n",
    "    command1\n",
    "elif expression2:\n",
    "    command2\n",
    "else:\n",
    "    command3\n",
    "```\n",
    "* `command1` will execute if `expression1` is True equivalent.\n",
    "* `command2` will execute if `expression1` is False equivalent, and `expression2` is True equivalent.\n",
    "* Otherwise `command3` will execute.\n",
    "\n",
    "Note that the colon and the indentation of the commands is an essential part of the syntax.\n",
    "\n",
    "Let's try a simple conditional. Which output do you expect to get based on the input?"
   ]
  },
  {
   "cell_type": "code",
   "execution_count": 11,
   "metadata": {
    "tags": [
     "hide-output"
    ]
   },
   "outputs": [
    {
     "name": "stdout",
     "output_type": "stream",
     "text": [
      "Time to study!\n"
     ]
    }
   ],
   "source": [
    "# A simple conditional\n",
    "have_homework = True   # assign True to variable have_homework\n",
    "if have_homework:\n",
    "    print(\"Time to study!\")\n",
    "else:\n",
    "    print(\"Time to play!\")"
   ]
  },
  {
   "cell_type": "markdown",
   "metadata": {},
   "source": [
    "Now edit the above to read: `have_homework = False`. What output do you get this time?\n",
    "\n",
    "Also, see what happens if you remove one of the colons or you remove the indentation of the `print()` commands. You should get an error message - syntax is key!"
   ]
  },
  {
   "cell_type": "markdown",
   "metadata": {},
   "source": [
    "### 4.1 Comparators\n",
    "Comparison operators (aka comparators) compare the values on either side of them and decide the relation among them. These are often used within conditionals. Comparators will always resolve to a boolean value.\n",
    "\n",
    "Here is a list of compartors in python:\n",
    "\n",
    "* `>` Greater than\n",
    "* `<` Less than\n",
    "* `>=` Greater or equal to\n",
    "* `<=` Less or equal to\n",
    "* `==` Equal\n",
    "* `!=` Not equal\n",
    "\n",
    "**IMPORTANT**: Equal comparator is *double* equal sign, not single.\n",
    "\n",
    "Here is a simple example."
   ]
  },
  {
   "cell_type": "code",
   "execution_count": 12,
   "metadata": {},
   "outputs": [
    {
     "data": {
      "text/plain": [
       "True"
      ]
     },
     "execution_count": 12,
     "metadata": {},
     "output_type": "execute_result"
    }
   ],
   "source": [
    "# Comparator\n",
    "4 < 5"
   ]
  },
  {
   "cell_type": "markdown",
   "metadata": {},
   "source": [
    "Now try editing the code block above and trying out different comparators."
   ]
  },
  {
   "cell_type": "markdown",
   "metadata": {},
   "source": [
    "### 4.2 Logical Operators\n",
    "You can use logical operators to connect multiple expressions. These are also often used within conditionals. Logical operators will always resolve to a boolean value.\n",
    "* and\n",
    "* or\n",
    "* not\n",
    "\n",
    "Before we dive in, it's good to note a few properties of booleans:\n",
    "\n",
    "- True and True = True\n",
    "- False and False = False\n",
    "- True and False = False\n",
    "- True or True = True\n",
    "- False or False = False\n",
    "- True or False = True\n",
    "\n",
    "`not` is used to reverse the logical state of the operand - i.e., switch `True` to `False` and vice versa.\n",
    "\n",
    "Let's take a look how these work."
   ]
  },
  {
   "cell_type": "code",
   "execution_count": 13,
   "metadata": {
    "tags": [
     "hide-output"
    ]
   },
   "outputs": [
    {
     "data": {
      "text/plain": [
       "True"
      ]
     },
     "execution_count": 13,
     "metadata": {},
     "output_type": "execute_result"
    }
   ],
   "source": [
    "# Logical operators\n",
    "have_homework = True\n",
    "need_sleep = True\n",
    "\n",
    "# try different combinations\n",
    "need_sleep and have_homework"
   ]
  },
  {
   "cell_type": "markdown",
   "metadata": {},
   "source": [
    "Now let's take a look at a conditional that contains a comparator *and* a logical operator. What will the output be?\n",
    "\n",
    "What will the output be if we make the following changes (independently and all at once)?:\n",
    "- `hours_studied = 2`\n",
    "- `have_homework = True`\n",
    "- `and` to `or`"
   ]
  },
  {
   "cell_type": "code",
   "execution_count": 14,
   "metadata": {
    "tags": [
     "hide-output"
    ]
   },
   "outputs": [
    {
     "name": "stdout",
     "output_type": "stream",
     "text": [
      "Time to play\n"
     ]
    }
   ],
   "source": [
    "# A more complex conditional\n",
    "have_homework = False\n",
    "hours_studied = 10\n",
    "if hours_studied > 4 and not have_homework:\n",
    "    print(\"Time to play\")\n",
    "else:\n",
    "    print(\"Time to study\")"
   ]
  },
  {
   "cell_type": "markdown",
   "metadata": {},
   "source": [
    "### 4.3 True / False Equivalent\n",
    "Expression does not have to be strictly `True` or `False` for Python conditionals to trigger.\n",
    "\n",
    "* True\n",
    "    * Boolean: True\n",
    "    * Integer: not 0\n",
    "    * String: not empty\n",
    "    \n",
    "* False\n",
    "    * Boolean: False\n",
    "    * Integer: 0\n",
    "    * String: `\"\"`\n",
    "    \n",
    "Let's see how this works by looking at another example of conditionals. Take a look at the example and figure out what the output will be, then check your answer."
   ]
  },
  {
   "cell_type": "code",
   "execution_count": 15,
   "metadata": {
    "tags": [
     "hide-output"
    ]
   },
   "outputs": [
    {
     "name": "stdout",
     "output_type": "stream",
     "text": [
      "a is 10\n",
      "c,b,a are all True equivalents\n"
     ]
    }
   ],
   "source": [
    "# Two conditional\n",
    "a = 10\n",
    "b = 20\n",
    "c = 30\n",
    "\n",
    "# conditional 1\n",
    "if a == 10:\n",
    "    print(\"a is 10\")\n",
    "\n",
    "# conditional 2\n",
    "if b < a:\n",
    "    print(\"b is less than a\")\n",
    "elif c and b and a:\n",
    "    print(\"c,b,a are all True equivalents\")\n",
    "else:\n",
    "    print(\"nothing happens\")"
   ]
  },
  {
   "cell_type": "markdown",
   "metadata": {},
   "source": [
    "Now what happens if you make the following changes?:\n",
    "\n",
    "- `c = 0`\n",
    "- `c = \"\"`\n",
    "- `b = 2`"
   ]
  },
  {
   "cell_type": "markdown",
   "metadata": {},
   "source": [
    "### 4.4 Nested Conditionals\n",
    "\n",
    "You can also have nested conditional blocks of code. Here is an example."
   ]
  },
  {
   "cell_type": "code",
   "execution_count": 16,
   "metadata": {
    "tags": [
     "hide-output"
    ]
   },
   "outputs": [
    {
     "name": "stdout",
     "output_type": "stream",
     "text": [
      "a is 10\n",
      "c,b,a are all True equivalents\n",
      "c is also smaller than 40\n"
     ]
    }
   ],
   "source": [
    "# A nested conditional\n",
    "a = 10\n",
    "b = 20\n",
    "c = 30\n",
    "\n",
    "# conditional 1\n",
    "if a == 10:\n",
    "    print(\"a is 10\")\n",
    "\n",
    "# conditional 2\n",
    "if b < a:\n",
    "    print(\"b is less than a\")\n",
    "elif c and b and a:\n",
    "    print(\"c,b,a are all True equivalents\")   \n",
    "    # nested conditional\n",
    "    if c < 40:\n",
    "        print(\"c is also smaller than 40\")\n",
    "else:\n",
    "    print(\"nothing happens\")"
   ]
  },
  {
   "cell_type": "markdown",
   "metadata": {},
   "source": [
    "Before we proceed to the second part of Module 1, test your new python knowledge by completing a few short exercises."
   ]
  },
  {
   "cell_type": "code",
   "execution_count": null,
   "metadata": {},
   "outputs": [],
   "source": []
  }
 ],
 "metadata": {
  "celltoolbar": "Tags",
  "kernelspec": {
   "display_name": "Python 3",
   "language": "python",
   "name": "python3"
  },
  "language_info": {
   "codemirror_mode": {
    "name": "ipython",
    "version": 3
   },
   "file_extension": ".py",
   "mimetype": "text/x-python",
   "name": "python",
   "nbconvert_exporter": "python",
   "pygments_lexer": "ipython3",
   "version": "3.8.3"
  }
 },
 "nbformat": 4,
 "nbformat_minor": 2
}